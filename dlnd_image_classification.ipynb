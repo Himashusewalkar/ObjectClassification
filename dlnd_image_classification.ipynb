{
 "cells": [
  {
   "cell_type": "markdown",
   "metadata": {
    "collapsed": true
   },
   "source": [
    "# Image Classification\n",
    "In this project, you'll classify images from the [CIFAR-10 dataset](https://www.cs.toronto.edu/~kriz/cifar.html).  The dataset consists of airplanes, dogs, cats, and other objects. You'll preprocess the images, then train a convolutional neural network on all the samples. The images need to be normalized and the labels need to be one-hot encoded.  You'll get to apply what you learned and build a convolutional, max pooling, dropout, and fully connected layers.  At the end, you'll get to see your neural network's predictions on the sample images.\n",
    "## Get the Data\n",
    "Run the following cell to download the [CIFAR-10 dataset for python](https://www.cs.toronto.edu/~kriz/cifar-10-python.tar.gz)."
   ]
  },
  {
   "cell_type": "code",
   "execution_count": 4,
   "metadata": {},
   "outputs": [
    {
     "name": "stdout",
     "output_type": "stream",
     "text": [
      "All files found!\n"
     ]
    }
   ],
   "source": [
    "\"\"\"\n",
    "DON'T MODIFY ANYTHING IN THIS CELL THAT IS BELOW THIS LINE\n",
    "\"\"\"\n",
    "from urllib.request import urlretrieve\n",
    "from os.path import isfile, isdir\n",
    "from tqdm import tqdm\n",
    "import problem_unittests as tests\n",
    "import tarfile\n",
    "import tensorflow as tf\n",
    "\n",
    "cifar10_dataset_folder_path = 'cifar-10-batches-py'\n",
    "\n",
    "class DLProgress(tqdm):\n",
    "    last_block = 0\n",
    "\n",
    "    def hook(self, block_num=1, block_size=1, total_size=None):\n",
    "        self.total = total_size\n",
    "        self.update((block_num - self.last_block) * block_size)\n",
    "        self.last_block = block_num\n",
    "\n",
    "if not isfile('cifar-10-python.tar.gz'):\n",
    "    with DLProgress(unit='B', unit_scale=True, miniters=1, desc='CIFAR-10 Dataset') as pbar:\n",
    "        urlretrieve(\n",
    "            'https://www.cs.toronto.edu/~kriz/cifar-10-python.tar.gz',\n",
    "            'cifar-10-python.tar.gz',\n",
    "            pbar.hook)\n",
    "\n",
    "if not isdir(cifar10_dataset_folder_path):\n",
    "    with tarfile.open('cifar-10-python.tar.gz') as tar:\n",
    "        tar.extractall()\n",
    "        tar.close()\n",
    "\n",
    "\n",
    "tests.test_folder_path(cifar10_dataset_folder_path)"
   ]
  },
  {
   "cell_type": "markdown",
   "metadata": {},
   "source": [
    "## Explore the Data\n",
    "The dataset is broken into batches to prevent your machine from running out of memory.  The CIFAR-10 dataset consists of 5 batches, named `data_batch_1`, `data_batch_2`, etc.. Each batch contains the labels and images that are one of the following:\n",
    "* airplane\n",
    "* automobile\n",
    "* bird\n",
    "* cat\n",
    "* deer\n",
    "* dog\n",
    "* frog\n",
    "* horse\n",
    "* ship\n",
    "* truck\n",
    "\n",
    "Understanding a dataset is part of making predictions on the data.  Play around with the code cell below by changing the `batch_id` and `sample_id`. The `batch_id` is the id for a batch (1-5). The `sample_id` is the id for a image and label pair in the batch.\n",
    "\n",
    "Ask yourself \"What are all possible labels?\", \"What is the range of values for the image data?\", \"Are the labels in order or random?\".  Answers to questions like these will help you preprocess the data and end up with better predictions."
   ]
  },
  {
   "cell_type": "code",
   "execution_count": 2,
   "metadata": {},
   "outputs": [
    {
     "name": "stdout",
     "output_type": "stream",
     "text": [
      "\n",
      "Stats of batch 1:\n",
      "Samples: 10000\n",
      "Label Counts: {0: 1005, 1: 974, 2: 1032, 3: 1016, 4: 999, 5: 937, 6: 1030, 7: 1001, 8: 1025, 9: 981}\n",
      "First 20 Labels: [6, 9, 9, 4, 1, 1, 2, 7, 8, 3, 4, 7, 7, 2, 9, 9, 9, 3, 2, 6]\n",
      "\n",
      "Example of Image 3:\n",
      "Image - Min Value: 4 Max Value: 234\n",
      "Image - Shape: (32, 32, 3)\n",
      "Label - Label Id: 4 Name: deer\n"
     ]
    },
    {
     "data": {
      "image/png": "[encoded data removed]",
      "text/plain": [
       "<Figure size 432x288 with 1 Axes>"
      ]
     },
     "metadata": {
      "image/png": {
       "height": 250,
       "width": 253
      }
     },
     "output_type": "display_data"
    }
   ],
   "source": [
    "import matplotlib\n",
    "\n",
    "%matplotlib inline\n",
    "%config InlineBackend.figure_format = 'retina'\n",
    "\n",
    "import helper\n",
    "import numpy as np\n",
    "\n",
    "# Explore the dataset\n",
    "batch_id = 1\n",
    "sample_id = 3\n",
    "helper.display_stats(cifar10_dataset_folder_path, batch_id, sample_id)"
   ]
  },
  {
   "cell_type": "markdown",
   "metadata": {},
   "source": [
    "## Implement Preprocess Functions\n",
    "### Normalize\n",
    "In the cell below, implement the `normalize` function to take in image data, `x`, and return it as a normalized Numpy array. The values should be in the range of 0 to 1, inclusive.  The return object should be the same shape as `x`."
   ]
  },
  {
   "cell_type": "code",
   "execution_count": 3,
   "metadata": {},
   "outputs": [
    {
     "name": "stdout",
     "output_type": "stream",
     "text": [
      "Tests Passed\n"
     ]
    }
   ],
   "source": [
    "import sklearn \n",
    "import numpy as np\n",
    "\n",
    "def normalize(x):\n",
    "    \"\"\"\n",
    "    Normalize a list of sample image data in the range of 0 to 1\n",
    "    : x: List of image data.  The image shape is (32, 32, 3)\n",
    "    : return: Numpy array of normalize data\n",
    "    \"\"\"\n",
    "    # TODO: Implement Function\n",
    "    \n",
    "    return np.array(x / 255)\n",
    "\n",
    "\n",
    "\n",
    "\"\"\"\n",
    "DON'T MODIFY ANYTHING IN THIS CELL THAT IS BELOW THIS LINE\n",
    "\"\"\"\n",
    "tests.test_normalize(normalize)"
   ]
  },
  {
   "cell_type": "markdown",
   "metadata": {},
   "source": [
    "### One-hot encode\n",
    "Just like the previous code cell, you'll be implementing a function for preprocessing.  This time, you'll implement the `one_hot_encode` function. The input, `x`, are a list of labels.  Implement the function to return the list of labels as One-Hot encoded Numpy array.  The possible values for labels are 0 to 9. The one-hot encoding function should return the same encoding for each value between each call to `one_hot_encode`.  Make sure to save the map of encodings outside the function.\n",
    "\n",
    "**Hint:**\n",
    "\n",
    "Look into LabelBinarizer in the preprocessing module of sklearn."
   ]
  },
  {
   "cell_type": "code",
   "execution_count": 18,
   "metadata": {},
   "outputs": [
    {
     "name": "stdout",
     "output_type": "stream",
     "text": [
      "Tests Passed\n"
     ]
    }
   ],
   "source": [
    "def one_hot_encode(x):\n",
    "    \"\"\"\n",
    "    One hot encode a list of sample labels. Return a one-hot encoded vector for each label.\n",
    "    : x: List of sample Labels\n",
    "    : return: Numpy array of one-hot encoded labels\n",
    "    \"\"\"\n",
    "    # TODO: Implement Function\n",
    "    return np.eye(10)[x]\n",
    "\n",
    "\n",
    "\"\"\"\n",
    "DON'T MODIFY ANYTHING IN THIS CELL THAT IS BELOW THIS LINE\n",
    "\"\"\"\n",
    "tests.test_one_hot_encode(one_hot_encode)"
   ]
  },
  {
   "cell_type": "markdown",
   "metadata": {},
   "source": [
    "### Randomize Data\n",
    "As you saw from exploring the data above, the order of the samples are randomized.  It doesn't hurt to randomize it again, but you don't need to for this dataset."
   ]
  },
  {
   "cell_type": "markdown",
   "metadata": {},
   "source": [
    "## Preprocess all the data and save it\n",
    "Running the code cell below will preprocess all the CIFAR-10 data and save it to file. The code below also uses 10% of the training data for validation."
   ]
  },
  {
   "cell_type": "code",
   "execution_count": 19,
   "metadata": {},
   "outputs": [],
   "source": [
    "\"\"\"\n",
    "DON'T MODIFY ANYTHING IN THIS CELL\n",
    "\"\"\"\n",
    "# Preprocess Training, Validation, and Testing Data\n",
    "helper.preprocess_and_save_data(cifar10_dataset_folder_path, normalize, one_hot_encode)"
   ]
  },
  {
   "cell_type": "markdown",
   "metadata": {},
   "source": [
    "# Check Point\n",
    "This is your first checkpoint.  If you ever decide to come back to this notebook or have to restart the notebook, you can start from here.  The preprocessed data has been saved to disk."
   ]
  },
  {
   "cell_type": "code",
   "execution_count": 17,
   "metadata": {},
   "outputs": [],
   "source": [
    "\"\"\"\n",
    "DON'T MODIFY ANYTHING IN THIS CELL\n",
    "\"\"\"\n",
    "import pickle\n",
    "import problem_unittests as tests\n",
    "import helper\n",
    "\n",
    "# Load the Preprocessed Validation data\n",
    "valid_features, valid_labels = pickle.load(open('preprocess_validation.p', mode='rb'))"
   ]
  },
  {
   "cell_type": "markdown",
   "metadata": {},
   "source": [
    "## Build the network\n",
    "For the neural network, you'll build each layer into a function.  Most of the code you've seen has been outside of functions. To test your code more thoroughly, we require that you put each layer in a function.  This allows us to give you better feedback and test for simple mistakes using our unittests before you submit your project.\n",
    "\n",
    ">**Note:** If you're finding it hard to dedicate enough time for this course each week, we've provided a small shortcut to this part of the project. In the next couple of problems, you'll have the option to use classes from the [TensorFlow Layers](https://www.tensorflow.org/api_docs/python/tf/layers) or [TensorFlow Layers (contrib)](https://www.tensorflow.org/api_guides/python/contrib.layers) packages to build each layer, except the layers you build in the \"Convolutional and Max Pooling Layer\" section.  TF Layers is similar to Keras's and TFLearn's abstraction to layers, so it's easy to pickup.\n",
    "\n",
    ">However, if you would like to get the most out of this course, try to solve all the problems _without_ using anything from the TF Layers packages. You **can** still use classes from other packages that happen to have the same name as ones you find in TF Layers! For example, instead of using the TF Layers version of the `conv2d` class, [tf.layers.conv2d](https://www.tensorflow.org/api_docs/python/tf/layers/conv2d), you would want to use the TF Neural Network version of `conv2d`, [tf.nn.conv2d](https://www.tensorflow.org/api_docs/python/tf/nn/conv2d). \n",
    "\n",
    "Let's begin!\n",
    "\n",
    "### Input\n",
    "The neural network needs to read the image data, one-hot encoded labels, and dropout keep probability. Implement the following functions\n",
    "* Implement `neural_net_image_input`\n",
    " * Return a [TF Placeholder](https://www.tensorflow.org/api_docs/python/tf/placeholder)\n",
    " * Set the shape using `image_shape` with batch size set to `None`.\n",
    " * Name the TensorFlow placeholder \"x\" using the TensorFlow `name` parameter in the [TF Placeholder](https://www.tensorflow.org/api_docs/python/tf/placeholder).\n",
    "* Implement `neural_net_label_input`\n",
    " * Return a [TF Placeholder](https://www.tensorflow.org/api_docs/python/tf/placeholder)\n",
    " * Set the shape using `n_classes` with batch size set to `None`.\n",
    " * Name the TensorFlow placeholder \"y\" using the TensorFlow `name` parameter in the [TF Placeholder](https://www.tensorflow.org/api_docs/python/tf/placeholder).\n",
    "* Implement `neural_net_keep_prob_input`\n",
    " * Return a [TF Placeholder](https://www.tensorflow.org/api_docs/python/tf/placeholder) for dropout keep probability.\n",
    " * Name the TensorFlow placeholder \"keep_prob\" using the TensorFlow `name` parameter in the [TF Placeholder](https://www.tensorflow.org/api_docs/python/tf/placeholder).\n",
    "\n",
    "These names will be used at the end of the project to load your saved model.\n",
    "\n",
    "Note: `None` for shapes in TensorFlow allow for a dynamic size."
   ]
  },
  {
   "cell_type": "code",
   "execution_count": 11,
   "metadata": {},
   "outputs": [
    {
     "name": "stdout",
     "output_type": "stream",
     "text": [
      "Image Input Tests Passed.\n",
      "Label Input Tests Passed.\n",
      "Keep Prob Tests Passed.\n"
     ]
    }
   ],
   "source": [
    "import tensorflow as tf\n",
    "\n",
    "\n",
    "def neural_net_image_input(image_shape):\n",
    "    \"\"\"\n",
    "    Return a Tensor for a batch of image input\n",
    "    : image_shape: Shape of the images\n",
    "    : return: Tensor for image input.\n",
    "    \"\"\"\n",
    "    # TODO: Implement Function\n",
    "    #print((None)image_shape)\n",
    "    x = tf.placeholder(tf.float32, shape=(None,image_shape[0],image_shape[1],image_shape[2]),name='x')\n",
    "    return x\n",
    "\n",
    "\n",
    "\n",
    "def neural_net_label_input(n_classes):\n",
    "    \"\"\"\n",
    "    Return a Tensor for a batch of label input\n",
    "    : n_classes: Number of classes\n",
    "    : return: Tensor for label input.\n",
    "    \"\"\"\n",
    "    # TODO: Implement Function\n",
    "    y = tf.placeholder(tf.int32, shape=(None,n_classes),name='y')\n",
    "    return y\n",
    "    \n",
    "\n",
    "\n",
    "def neural_net_keep_prob_input():\n",
    "    \"\"\"\n",
    "    Return a Tensor for keep probability\n",
    "    : return: Tensor for keep probability.\n",
    "    \"\"\"\n",
    "    # TODO: Implement Function\n",
    "    keep_prob = tf.placeholder(tf.float32,name='keep_prob')\n",
    "    return keep_prob\n",
    "    \n",
    "\n",
    "\n",
    "\"\"\"\n",
    "DON'T MODIFY ANYTHING IN THIS CELL THAT IS BELOW THIS LINE\n",
    "\"\"\"\n",
    "tf.reset_default_graph()\n",
    "tests.test_nn_image_inputs(neural_net_image_input)\n",
    "tests.test_nn_label_inputs(neural_net_label_input)\n",
    "tests.test_nn_keep_prob_inputs(neural_net_keep_prob_input)"
   ]
  },
  {
   "cell_type": "markdown",
   "metadata": {},
   "source": [
    "### Convolution and Max Pooling Layer\n",
    "Convolution layers have a lot of success with images. For this code cell, you should implement the function `conv2d_maxpool` to apply convolution then max pooling:\n",
    "* Create the weight and bias using `conv_ksize`, `conv_num_outputs` and the shape of `x_tensor`.\n",
    "* Apply a convolution to `x_tensor` using weight and `conv_strides`.\n",
    " * We recommend you use same padding, but you're welcome to use any padding.\n",
    "* Add bias\n",
    "* Add a nonlinear activation to the convolution.\n",
    "* Apply Max Pooling using `pool_ksize` and `pool_strides`.\n",
    " * We recommend you use same padding, but you're welcome to use any padding.\n",
    "\n",
    "**Note:** You **can't** use [TensorFlow Layers](https://www.tensorflow.org/api_docs/python/tf/layers) or [TensorFlow Layers (contrib)](https://www.tensorflow.org/api_guides/python/contrib.layers) for **this** layer, but you can still use TensorFlow's [Neural Network](https://www.tensorflow.org/api_docs/python/tf/nn) package. You may still use the shortcut option for all the **other** layers.\n",
    "\n",
    "** Hint: **\n",
    "\n",
    "When unpacking values as an argument in Python, look into the [unpacking](https://docs.python.org/3/tutorial/controlflow.html#unpacking-argument-lists) operator. "
   ]
  },
  {
   "cell_type": "code",
   "execution_count": 5,
   "metadata": {},
   "outputs": [
    {
     "name": "stdout",
     "output_type": "stream",
     "text": [
      "Tests Passed\n"
     ]
    }
   ],
   "source": [
    "def conv2d_maxpool(x_tensor, conv_num_outputs, conv_ksize, conv_strides, pool_ksize, pool_strides):\n",
    "    \"\"\"\n",
    "    Apply convolution then max pooling to x_tensor\n",
    "    :param x_tensor: TensorFlow Tensor\n",
    "    :param conv_num_outputs: Number of outputs for the convolutional layer\n",
    "    :param conv_ksize: kernal size 2-D Tuple for the convolutional layer\n",
    "    :param conv_strides: Stride 2-D Tuple for convolution\n",
    "    :param pool_ksize: kernal size 2-D Tuple for pool\n",
    "    :param pool_strides: Stride 2-D Tuple for pool\n",
    "    : return: A tensor that represents convolution and max pooling of x_tensor\n",
    "    \"\"\"\n",
    "    # TODO: Implement Function\n",
    "    weight = tf.Variable(tf.random_normal([conv_ksize[0],\n",
    "                                           conv_ksize[1],\n",
    "                                           x_tensor.get_shape().as_list()[-1], \n",
    "                                           conv_num_outputs],\n",
    "                                         stddev=0.1))\n",
    "    bias = tf.Variable(tf.zeros(conv_num_outputs, dtype=tf.float32))\n",
    "    conv_layer = tf.nn.conv2d(x_tensor, weight, strides=[1, conv_strides[0], conv_strides[1], 1], padding='SAME')\n",
    "    conv_layer = tf.nn.bias_add(conv_layer, bias)\n",
    "    conv_layer = tf.nn.relu(conv_layer)\n",
    "    conv_layer = tf.nn.max_pool(conv_layer, \n",
    "                                ksize=[1, pool_ksize[0], pool_ksize[1], 1], \n",
    "                                strides=[1, pool_strides[0], pool_strides[1], 1],\n",
    "                                padding='SAME')\n",
    "    return conv_layer\n",
    "\n",
    "\n",
    "\"\"\"\n",
    "DON'T MODIFY ANYTHING IN THIS CELL THAT IS BELOW THIS LINE\n",
    "\"\"\"\n",
    "tests.test_con_pool(conv2d_maxpool)"
   ]
  },
  {
   "cell_type": "markdown",
   "metadata": {},
   "source": [
    "### Flatten Layer\n",
    "Implement the `flatten` function to change the dimension of `x_tensor` from a 4-D tensor to a 2-D tensor.  The output should be the shape (*Batch Size*, *Flattened Image Size*). Shortcut option: you can use classes from the [TensorFlow Layers](https://www.tensorflow.org/api_docs/python/tf/layers) or [TensorFlow Layers (contrib)](https://www.tensorflow.org/api_guides/python/contrib.layers) packages for this layer. For more of a challenge, only use other TensorFlow packages."
   ]
  },
  {
   "cell_type": "code",
   "execution_count": 6,
   "metadata": {},
   "outputs": [
    {
     "name": "stdout",
     "output_type": "stream",
     "text": [
      "Tests Passed\n"
     ]
    }
   ],
   "source": [
    "def flatten(x_tensor):\n",
    "    \"\"\"\n",
    "    Flatten x_tensor to (Batch Size, Flattened Image Size)\n",
    "    : x_tensor: A tensor of size (Batch Size, ...), where ... are the image dimensions.\n",
    "    : return: A tensor of size (Batch Size, Flattened Image Size).\n",
    "    \"\"\"\n",
    "    # TODO: Implement Function\n",
    "    return tf.contrib.layers.flatten(x_tensor)\n",
    "\n",
    "\n",
    "\"\"\"\n",
    "DON'T MODIFY ANYTHING IN THIS CELL THAT IS BELOW THIS LINE\n",
    "\"\"\"\n",
    "tests.test_flatten(flatten)"
   ]
  },
  {
   "cell_type": "markdown",
   "metadata": {},
   "source": [
    "### Fully-Connected Layer\n",
    "Implement the `fully_conn` function to apply a fully connected layer to `x_tensor` with the shape (*Batch Size*, *num_outputs*). Shortcut option: you can use classes from the [TensorFlow Layers](https://www.tensorflow.org/api_docs/python/tf/layers) or [TensorFlow Layers (contrib)](https://www.tensorflow.org/api_guides/python/contrib.layers) packages for this layer. For more of a challenge, only use other TensorFlow packages."
   ]
  },
  {
   "cell_type": "code",
   "execution_count": 8,
   "metadata": {},
   "outputs": [
    {
     "name": "stdout",
     "output_type": "stream",
     "text": [
      "Tests Passed\n"
     ]
    }
   ],
   "source": [
    "def fully_conn(x_tensor, num_outputs):\n",
    "    \"\"\"\n",
    "    Apply a fully connected layer to x_tensor using weight and bias\n",
    "    : x_tensor: A 2-D tensor where the first dimension is batch size.\n",
    "    : num_outputs: The number of output that the new tensor should be.\n",
    "    : return: A 2-D tensor where the second dimension is num_outputs.\n",
    "    \"\"\"\n",
    "    # TODO: Implement Function\n",
    "    num_features = x_tensor.shape[1].value\n",
    "    weights = tf.Variable(tf.random_normal([num_features, num_outputs], stddev=0.1))\n",
    "    biases = tf.Variable(tf.zeros([num_outputs]))\n",
    "    fully_connected = tf.add(tf.matmul(x_tensor, weights), biases)\n",
    "    fully_connected = tf.nn.relu(fully_connected)\n",
    "    return fully_connected\n",
    "\n",
    "\n",
    "\"\"\"\n",
    "DON'T MODIFY ANYTHING IN THIS CELL THAT IS BELOW THIS LINE\n",
    "\"\"\"\n",
    "tests.test_fully_conn(fully_conn)"
   ]
  },
  {
   "cell_type": "markdown",
   "metadata": {},
   "source": [
    "### Output Layer\n",
    "Implement the `output` function to apply a fully connected layer to `x_tensor` with the shape (*Batch Size*, *num_outputs*). Shortcut option: you can use classes from the [TensorFlow Layers](https://www.tensorflow.org/api_docs/python/tf/layers) or [TensorFlow Layers (contrib)](https://www.tensorflow.org/api_guides/python/contrib.layers) packages for this layer. For more of a challenge, only use other TensorFlow packages.\n",
    "\n",
    "**Note:** Activation, softmax, or cross entropy should **not** be applied to this."
   ]
  },
  {
   "cell_type": "code",
   "execution_count": 9,
   "metadata": {},
   "outputs": [
    {
     "name": "stdout",
     "output_type": "stream",
     "text": [
      "Tests Passed\n"
     ]
    }
   ],
   "source": [
    "def output(x_tensor, num_outputs):\n",
    "    \"\"\"\n",
    "    Apply a output layer to x_tensor using weight and bias\n",
    "    : x_tensor: A 2-D tensor where the first dimension is batch size.\n",
    "    : num_outputs: The number of output that the new tensor should be.\n",
    "    : return: A 2-D tensor where the second dimension is num_outputs.\n",
    "    \"\"\"\n",
    "    # TODO: Implement Function\n",
    "    width = x_tensor.get_shape().as_list()[1]    \n",
    "    weight = tf.Variable(tf.truncated_normal([width, num_outputs], stddev=0.1))\n",
    "    bias = tf.Variable(tf.zeros(num_outputs))\n",
    "    output = tf.nn.bias_add(tf.matmul(x_tensor,weight), bias)\n",
    "    return output\n",
    "\n",
    "\n",
    "\"\"\"\n",
    "DON'T MODIFY ANYTHING IN THIS CELL THAT IS BELOW THIS LINE\n",
    "\"\"\"\n",
    "tests.test_output(output)"
   ]
  },
  {
   "cell_type": "markdown",
   "metadata": {},
   "source": [
    "### Create Convolutional Model\n",
    "Implement the function `conv_net` to create a convolutional neural network model. The function takes in a batch of images, `x`, and outputs logits.  Use the layers you created above to create this model:\n",
    "\n",
    "* Apply 1, 2, or 3 Convolution and Max Pool layers\n",
    "* Apply a Flatten Layer\n",
    "* Apply 1, 2, or 3 Fully Connected Layers\n",
    "* Apply an Output Layer\n",
    "* Return the output\n",
    "* Apply [TensorFlow's Dropout](https://www.tensorflow.org/api_docs/python/tf/nn/dropout) to one or more layers in the model using `keep_prob`. "
   ]
  },
  {
   "cell_type": "code",
   "execution_count": 12,
   "metadata": {},
   "outputs": [
    {
     "name": "stdout",
     "output_type": "stream",
     "text": [
      "WARNING:tensorflow:From <ipython-input-12-4b4874b6fb21>:63: softmax_cross_entropy_with_logits (from tensorflow.python.ops.nn_ops) is deprecated and will be removed in a future version.\n",
      "Instructions for updating:\n",
      "\n",
      "Future major versions of TensorFlow will allow gradients to flow\n",
      "into the labels input on backprop by default.\n",
      "\n",
      "See tf.nn.softmax_cross_entropy_with_logits_v2.\n",
      "\n",
      "Neural Network Built!\n"
     ]
    }
   ],
   "source": [
    "def conv_net(x, keep_prob):\n",
    "    \"\"\"\n",
    "    Create a convolutional neural network model\n",
    "    : x: Placeholder tensor that holds image data.\n",
    "    : keep_prob: Placeholder tensor that hold dropout keep probability.\n",
    "    : return: Tensor that represents logits\n",
    "    \"\"\"\n",
    "    # TODO: Apply 1, 2, or 3 Convolution and Max Pool layers\n",
    "    #    Play around with different number of outputs, kernel size and stride\n",
    "    # Function Definition from Above:\n",
    "    #    conv2d_maxpool(x_tensor, conv_num_outputs, conv_ksize, conv_strides, pool_ksize, pool_strides)\n",
    "    x = conv2d_maxpool(x, 8, (4, 4), (1, 1), (2, 2), (2, 2))\n",
    "    x = conv2d_maxpool(x, 16, (4, 4), (1, 1), (2, 2), (2, 2))\n",
    "    x = conv2d_maxpool(x, 32, (4, 4), (1, 1), (2, 2), (2, 2))\n",
    "\n",
    "    # TODO: Apply a Flatten Layer\n",
    "    # Function Definition from Above:\n",
    "    #   flatten(x_tensor)\n",
    "    x = flatten(x)\n",
    "\n",
    "    # TODO: Apply 1, 2, or 3 Fully Connected Layers\n",
    "    #    Play around with different number of outputs\n",
    "    # Function Definition from Above:\n",
    "    #   fully_conn(x_tensor, num_outputs)\n",
    "    x = fully_conn(x, 1024)\n",
    "    x = tf.nn.dropout(x, keep_prob=keep_prob)\n",
    "    x = fully_conn(x, 1024)\n",
    "    x = tf.nn.dropout(x, keep_prob=keep_prob)\n",
    "    \n",
    "    # TODO: Apply an Output Layer\n",
    "    #    Set this to the number of classes\n",
    "    # Function Definition from Above:\n",
    "    #   output(x_tensor, num_outputs)\n",
    "    x = output(x, 10)\n",
    "    \n",
    "    # TODO: return output\n",
    "    return x\n",
    "\n",
    "\n",
    "\"\"\"\n",
    "DON'T MODIFY ANYTHING IN THIS CELL THAT IS BELOW THIS LINE\n",
    "\"\"\"\n",
    "\n",
    "##############################\n",
    "## Build the Neural Network ##\n",
    "##############################\n",
    "\n",
    "# Remove previous weights, bias, inputs, etc..\n",
    "tf.reset_default_graph()\n",
    "\n",
    "# Inputs\n",
    "x = neural_net_image_input((32, 32, 3))\n",
    "y = neural_net_label_input(10)\n",
    "keep_prob = neural_net_keep_prob_input()\n",
    "\n",
    "# Model\n",
    "logits = conv_net(x, keep_prob)\n",
    "\n",
    "# Name logits Tensor, so that is can be loaded from disk after training\n",
    "logits = tf.identity(logits, name='logits')\n",
    "\n",
    "# Loss and Optimizer\n",
    "cost = tf.reduce_mean(tf.nn.softmax_cross_entropy_with_logits(logits=logits, labels=y))\n",
    "optimizer = tf.train.AdamOptimizer().minimize(cost)\n",
    "\n",
    "# Accuracy\n",
    "correct_pred = tf.equal(tf.argmax(logits, 1), tf.argmax(y, 1))\n",
    "accuracy = tf.reduce_mean(tf.cast(correct_pred, tf.float32), name='accuracy')\n",
    "\n",
    "tests.test_conv_net(conv_net)"
   ]
  },
  {
   "cell_type": "markdown",
   "metadata": {},
   "source": [
    "## Train the Neural Network\n",
    "### Single Optimization\n",
    "Implement the function `train_neural_network` to do a single optimization.  The optimization should use `optimizer` to optimize in `session` with a `feed_dict` of the following:\n",
    "* `x` for image input\n",
    "* `y` for labels\n",
    "* `keep_prob` for keep probability for dropout\n",
    "\n",
    "This function will be called for each batch, so `tf.global_variables_initializer()` has already been called.\n",
    "\n",
    "Note: Nothing needs to be returned. This function is only optimizing the neural network."
   ]
  },
  {
   "cell_type": "code",
   "execution_count": 13,
   "metadata": {},
   "outputs": [
    {
     "name": "stdout",
     "output_type": "stream",
     "text": [
      "Tests Passed\n"
     ]
    }
   ],
   "source": [
    "def train_neural_network(session, optimizer, keep_probability, feature_batch, label_batch):\n",
    "    \"\"\"\n",
    "    Optimize the session on a batch of images and labels\n",
    "    : session: Current TensorFlow session\n",
    "    : optimizer: TensorFlow optimizer function\n",
    "    : keep_probability: keep probability\n",
    "    : feature_batch: Batch of Numpy image data\n",
    "    : label_batch: Batch of Numpy label data\n",
    "    \"\"\"\n",
    "    # TODO: Implement Function\n",
    "    session.run(optimizer, feed_dict={x:feature_batch, y:label_batch, keep_prob:keep_probability})\n",
    "\n",
    "\n",
    "\"\"\"\n",
    "DON'T MODIFY ANYTHING IN THIS CELL THAT IS BELOW THIS LINE\n",
    "\"\"\"\n",
    "tests.test_train_nn(train_neural_network)"
   ]
  },
  {
   "cell_type": "markdown",
   "metadata": {},
   "source": [
    "### Show Stats\n",
    "Implement the function `print_stats` to print loss and validation accuracy.  Use the global variables `valid_features` and `valid_labels` to calculate validation accuracy.  Use a keep probability of `1.0` to calculate the loss and validation accuracy."
   ]
  },
  {
   "cell_type": "code",
   "execution_count": 14,
   "metadata": {},
   "outputs": [],
   "source": [
    "def print_stats(session, feature_batch, label_batch, cost, accuracy):\n",
    "    \"\"\"\n",
    "    Print information about loss and validation accuracy\n",
    "    : session: Current TensorFlow session\n",
    "    : feature_batch: Batch of Numpy image data\n",
    "    : label_batch: Batch of Numpy label data\n",
    "    : cost: TensorFlow cost function\n",
    "    : accuracy: TensorFlow accuracy function\n",
    "    \"\"\"\n",
    "    # TODO: Implement Function\n",
    "    loss = session.run(cost, feed_dict={x:feature_batch, y:label_batch, keep_prob: 1.0})\n",
    "    accuracy = session.run(accuracy, feed_dict={x: valid_features, y:valid_labels, keep_prob:1.0})\n",
    "    \n",
    "    print(' Loss : {} '.format(loss))\n",
    "    print(' Validation Accuracy : {} '.format(accuracy))"
   ]
  },
  {
   "cell_type": "markdown",
   "metadata": {},
   "source": [
    "### Hyperparameters\n",
    "Tune the following parameters:\n",
    "* Set `epochs` to the number of iterations until the network stops learning or start overfitting\n",
    "* Set `batch_size` to the highest number that your machine has memory for.  Most people set them to common sizes of memory:\n",
    " * 64\n",
    " * 128\n",
    " * 256\n",
    " * ...\n",
    "* Set `keep_probability` to the probability of keeping a node using dropout"
   ]
  },
  {
   "cell_type": "code",
   "execution_count": 15,
   "metadata": {},
   "outputs": [],
   "source": [
    "# TODO: Tune Parameters\n",
    "epochs = 24\n",
    "batch_size = 1028\n",
    "keep_probability = 0.9"
   ]
  },
  {
   "cell_type": "markdown",
   "metadata": {},
   "source": [
    "### Train on a Single CIFAR-10 Batch\n",
    "Instead of training the neural network on all the CIFAR-10 batches of data, let's use a single batch. This should save time while you iterate on the model to get a better accuracy.  Once the final validation accuracy is 50% or greater, run the model on all the data in the next section."
   ]
  },
  {
   "cell_type": "code",
   "execution_count": 18,
   "metadata": {},
   "outputs": [
    {
     "name": "stdout",
     "output_type": "stream",
     "text": [
      "Checking the Training on a Single Batch...\n",
      "Epoch  1, CIFAR-10 Batch 1:   Loss : 2.305450201034546 \n",
      " Validation Accuracy : 0.18639999628067017 \n",
      "Epoch  2, CIFAR-10 Batch 1:   Loss : 2.2414677143096924 \n",
      " Validation Accuracy : 0.1793999969959259 \n",
      "Epoch  3, CIFAR-10 Batch 1:   Loss : 2.1369340419769287 \n",
      " Validation Accuracy : 0.25679999589920044 \n",
      "Epoch  4, CIFAR-10 Batch 1:   Loss : 1.9188745021820068 \n",
      " Validation Accuracy : 0.31439998745918274 \n",
      "Epoch  5, CIFAR-10 Batch 1:   Loss : 1.794730305671692 \n",
      " Validation Accuracy : 0.3458000123500824 \n",
      "Epoch  6, CIFAR-10 Batch 1:   Loss : 1.6819190979003906 \n",
      " Validation Accuracy : 0.37599998712539673 \n",
      "Epoch  7, CIFAR-10 Batch 1:   Loss : 1.5612223148345947 \n",
      " Validation Accuracy : 0.4036000072956085 \n",
      "Epoch  8, CIFAR-10 Batch 1:   Loss : 1.4777870178222656 \n",
      " Validation Accuracy : 0.42980000376701355 \n",
      "Epoch  9, CIFAR-10 Batch 1:   Loss : 1.3976505994796753 \n",
      " Validation Accuracy : 0.44179999828338623 \n",
      "Epoch 10, CIFAR-10 Batch 1:   Loss : 1.3149735927581787 \n",
      " Validation Accuracy : 0.45680001378059387 \n",
      "Epoch 11, CIFAR-10 Batch 1:   Loss : 1.249837040901184 \n",
      " Validation Accuracy : 0.46779999136924744 \n",
      "Epoch 12, CIFAR-10 Batch 1:   Loss : 1.1986210346221924 \n",
      " Validation Accuracy : 0.46939998865127563 \n",
      "Epoch 13, CIFAR-10 Batch 1:   Loss : 1.1337448358535767 \n",
      " Validation Accuracy : 0.47540000081062317 \n",
      "Epoch 14, CIFAR-10 Batch 1:   Loss : 1.0677012205123901 \n",
      " Validation Accuracy : 0.4779999852180481 \n",
      "Epoch 15, CIFAR-10 Batch 1:   Loss : 1.01742684841156 \n",
      " Validation Accuracy : 0.4781999886035919 \n",
      "Epoch 16, CIFAR-10 Batch 1:   Loss : 0.9495493173599243 \n",
      " Validation Accuracy : 0.48899999260902405 \n",
      "Epoch 17, CIFAR-10 Batch 1:   Loss : 0.8739396929740906 \n",
      " Validation Accuracy : 0.5012000203132629 \n",
      "Epoch 18, CIFAR-10 Batch 1:   Loss : 0.842906653881073 \n",
      " Validation Accuracy : 0.4943999946117401 \n",
      "Epoch 19, CIFAR-10 Batch 1:   Loss : 0.7807586789131165 \n",
      " Validation Accuracy : 0.5077999830245972 \n",
      "Epoch 20, CIFAR-10 Batch 1:   Loss : 0.7461837530136108 \n",
      " Validation Accuracy : 0.49939998984336853 \n",
      "Epoch 21, CIFAR-10 Batch 1:   Loss : 0.6778305172920227 \n",
      " Validation Accuracy : 0.5121999979019165 \n",
      "Epoch 22, CIFAR-10 Batch 1:   Loss : 0.6340672373771667 \n",
      " Validation Accuracy : 0.5113999843597412 \n",
      "Epoch 23, CIFAR-10 Batch 1:   Loss : 0.6397818922996521 \n",
      " Validation Accuracy : 0.5052000284194946 \n",
      "Epoch 24, CIFAR-10 Batch 1:   Loss : 0.5984618067741394 \n",
      " Validation Accuracy : 0.49799999594688416 \n"
     ]
    }
   ],
   "source": [
    "\"\"\"\n",
    "DON'T MODIFY ANYTHING IN THIS CELL\n",
    "\"\"\"\n",
    "print('Checking the Training on a Single Batch...')\n",
    "with tf.Session() as sess:\n",
    "    # Initializing the variables\n",
    "    sess.run(tf.global_variables_initializer())\n",
    "    \n",
    "    # Training cycle\n",
    "    for epoch in range(epochs):\n",
    "        batch_i = 1\n",
    "        for batch_features, batch_labels in helper.load_preprocess_training_batch(batch_i, batch_size):\n",
    "            train_neural_network(sess, optimizer, keep_probability, batch_features, batch_labels)\n",
    "        print('Epoch {:>2}, CIFAR-10 Batch {}:  '.format(epoch + 1, batch_i), end='')\n",
    "        print_stats(sess, batch_features, batch_labels, cost, accuracy)"
   ]
  },
  {
   "cell_type": "markdown",
   "metadata": {},
   "source": [
    "### Fully Train the Model\n",
    "Now that you got a good accuracy with a single CIFAR-10 batch, try it with all five batches."
   ]
  },
  {
   "cell_type": "code",
   "execution_count": 19,
   "metadata": {},
   "outputs": [
    {
     "name": "stdout",
     "output_type": "stream",
     "text": [
      "Training...\n",
      "Epoch  1, CIFAR-10 Batch 1:   Loss : 3.263641119003296 \n",
      " Validation Accuracy : 0.17560000717639923 \n",
      "Epoch  1, CIFAR-10 Batch 2:   Loss : 2.2389259338378906 \n",
      " Validation Accuracy : 0.1687999963760376 \n",
      "Epoch  1, CIFAR-10 Batch 3:   Loss : 2.1893815994262695 \n",
      " Validation Accuracy : 0.1868000030517578 \n",
      "Epoch  1, CIFAR-10 Batch 4:   Loss : 2.06091570854187 \n",
      " Validation Accuracy : 0.2637999951839447 \n",
      "Epoch  1, CIFAR-10 Batch 5:   Loss : 1.8718061447143555 \n",
      " Validation Accuracy : 0.32199999690055847 \n",
      "Epoch  2, CIFAR-10 Batch 1:   Loss : 1.8265858888626099 \n",
      " Validation Accuracy : 0.35519999265670776 \n",
      "Epoch  2, CIFAR-10 Batch 2:   Loss : 1.6987862586975098 \n",
      " Validation Accuracy : 0.3968000113964081 \n",
      "Epoch  2, CIFAR-10 Batch 3:   Loss : 1.6001909971237183 \n",
      " Validation Accuracy : 0.40880000591278076 \n",
      "Epoch  2, CIFAR-10 Batch 4:   Loss : 1.5286824703216553 \n",
      " Validation Accuracy : 0.4334000051021576 \n",
      "Epoch  2, CIFAR-10 Batch 5:   Loss : 1.5640097856521606 \n",
      " Validation Accuracy : 0.4442000091075897 \n",
      "Epoch  3, CIFAR-10 Batch 1:   Loss : 1.5326603651046753 \n",
      " Validation Accuracy : 0.4607999920845032 \n",
      "Epoch  3, CIFAR-10 Batch 2:   Loss : 1.4731134176254272 \n",
      " Validation Accuracy : 0.4602000117301941 \n",
      "Epoch  3, CIFAR-10 Batch 3:   Loss : 1.4025896787643433 \n",
      " Validation Accuracy : 0.47040000557899475 \n",
      "Epoch  3, CIFAR-10 Batch 4:   Loss : 1.3425025939941406 \n",
      " Validation Accuracy : 0.4912000000476837 \n",
      "Epoch  3, CIFAR-10 Batch 5:   Loss : 1.405458688735962 \n",
      " Validation Accuracy : 0.49160000681877136 \n",
      "Epoch  4, CIFAR-10 Batch 1:   Loss : 1.3786206245422363 \n",
      " Validation Accuracy : 0.5027999877929688 \n",
      "Epoch  4, CIFAR-10 Batch 2:   Loss : 1.3472402095794678 \n",
      " Validation Accuracy : 0.49559998512268066 \n",
      "Epoch  4, CIFAR-10 Batch 3:   Loss : 1.300284504890442 \n",
      " Validation Accuracy : 0.5005999803543091 \n",
      "Epoch  4, CIFAR-10 Batch 4:   Loss : 1.2285709381103516 \n",
      " Validation Accuracy : 0.515999972820282 \n",
      "Epoch  4, CIFAR-10 Batch 5:   Loss : 1.2910404205322266 \n",
      " Validation Accuracy : 0.5167999863624573 \n",
      "Epoch  5, CIFAR-10 Batch 1:   Loss : 1.2787474393844604 \n",
      " Validation Accuracy : 0.5242000222206116 \n",
      "Epoch  5, CIFAR-10 Batch 2:   Loss : 1.2605654001235962 \n",
      " Validation Accuracy : 0.5246000289916992 \n",
      "Epoch  5, CIFAR-10 Batch 3:   Loss : 1.2164783477783203 \n",
      " Validation Accuracy : 0.5202000141143799 \n",
      "Epoch  5, CIFAR-10 Batch 4:   Loss : 1.1404258012771606 \n",
      " Validation Accuracy : 0.5324000120162964 \n",
      "Epoch  5, CIFAR-10 Batch 5:   Loss : 1.1895490884780884 \n",
      " Validation Accuracy : 0.5389999747276306 \n",
      "Epoch  6, CIFAR-10 Batch 1:   Loss : 1.1948347091674805 \n",
      " Validation Accuracy : 0.5382000207901001 \n",
      "Epoch  6, CIFAR-10 Batch 2:   Loss : 1.172430396080017 \n",
      " Validation Accuracy : 0.5436000227928162 \n",
      "Epoch  6, CIFAR-10 Batch 3:   Loss : 1.1505299806594849 \n",
      " Validation Accuracy : 0.5365999937057495 \n",
      "Epoch  6, CIFAR-10 Batch 4:   Loss : 1.0701696872711182 \n",
      " Validation Accuracy : 0.5454000234603882 \n",
      "Epoch  6, CIFAR-10 Batch 5:   Loss : 1.10806405544281 \n",
      " Validation Accuracy : 0.5608000159263611 \n",
      "Epoch  7, CIFAR-10 Batch 1:   Loss : 1.1151096820831299 \n",
      " Validation Accuracy : 0.5501999855041504 \n",
      "Epoch  7, CIFAR-10 Batch 2:   Loss : 1.119500756263733 \n",
      " Validation Accuracy : 0.5573999881744385 \n",
      "Epoch  7, CIFAR-10 Batch 3:   Loss : 1.057550311088562 \n",
      " Validation Accuracy : 0.5558000206947327 \n",
      "Epoch  7, CIFAR-10 Batch 4:   Loss : 0.9848964214324951 \n",
      " Validation Accuracy : 0.5590000152587891 \n",
      "Epoch  7, CIFAR-10 Batch 5:   Loss : 1.0268110036849976 \n",
      " Validation Accuracy : 0.5723999738693237 \n",
      "Epoch  8, CIFAR-10 Batch 1:   Loss : 1.0370144844055176 \n",
      " Validation Accuracy : 0.5612000226974487 \n",
      "Epoch  8, CIFAR-10 Batch 2:   Loss : 1.0497390031814575 \n",
      " Validation Accuracy : 0.5766000151634216 \n",
      "Epoch  8, CIFAR-10 Batch 3:   Loss : 0.9916045069694519 \n",
      " Validation Accuracy : 0.5727999806404114 \n",
      "Epoch  8, CIFAR-10 Batch 4:   Loss : 0.9223431348800659 \n",
      " Validation Accuracy : 0.5771999955177307 \n",
      "Epoch  8, CIFAR-10 Batch 5:   Loss : 0.9520657658576965 \n",
      " Validation Accuracy : 0.5856000185012817 \n",
      "Epoch  9, CIFAR-10 Batch 1:   Loss : 0.9655442237854004 \n",
      " Validation Accuracy : 0.578000009059906 \n",
      "Epoch  9, CIFAR-10 Batch 2:   Loss : 0.985815167427063 \n",
      " Validation Accuracy : 0.5892000198364258 \n",
      "Epoch  9, CIFAR-10 Batch 3:   Loss : 0.9238008260726929 \n",
      " Validation Accuracy : 0.5848000049591064 \n",
      "Epoch  9, CIFAR-10 Batch 4:   Loss : 0.8633701801300049 \n",
      " Validation Accuracy : 0.5838000178337097 \n",
      "Epoch  9, CIFAR-10 Batch 5:   Loss : 0.8837593197822571 \n",
      " Validation Accuracy : 0.5889999866485596 \n",
      "Epoch 10, CIFAR-10 Batch 1:   Loss : 0.9017885327339172 \n",
      " Validation Accuracy : 0.5812000036239624 \n",
      "Epoch 10, CIFAR-10 Batch 2:   Loss : 0.9233961701393127 \n",
      " Validation Accuracy : 0.5889999866485596 \n",
      "Epoch 10, CIFAR-10 Batch 3:   Loss : 0.8677645921707153 \n",
      " Validation Accuracy : 0.5911999940872192 \n",
      "Epoch 10, CIFAR-10 Batch 4:   Loss : 0.8222224712371826 \n",
      " Validation Accuracy : 0.593999981880188 \n",
      "Epoch 10, CIFAR-10 Batch 5:   Loss : 0.829185426235199 \n",
      " Validation Accuracy : 0.5924000144004822 \n",
      "Epoch 11, CIFAR-10 Batch 1:   Loss : 0.8432356119155884 \n",
      " Validation Accuracy : 0.5896000266075134 \n",
      "Epoch 11, CIFAR-10 Batch 2:   Loss : 0.8668516278266907 \n",
      " Validation Accuracy : 0.6015999913215637 \n",
      "Epoch 11, CIFAR-10 Batch 3:   Loss : 0.8018410801887512 \n",
      " Validation Accuracy : 0.5950000286102295 \n",
      "Epoch 11, CIFAR-10 Batch 4:   Loss : 0.7775897979736328 \n",
      " Validation Accuracy : 0.593999981880188 \n",
      "Epoch 11, CIFAR-10 Batch 5:   Loss : 0.7725973129272461 \n",
      " Validation Accuracy : 0.5982000231742859 \n",
      "Epoch 12, CIFAR-10 Batch 1:   Loss : 0.7811993360519409 \n",
      " Validation Accuracy : 0.600600004196167 \n",
      "Epoch 12, CIFAR-10 Batch 2:   Loss : 0.8257269859313965 \n",
      " Validation Accuracy : 0.5974000096321106 \n",
      "Epoch 12, CIFAR-10 Batch 3:   Loss : 0.746832013130188 \n",
      " Validation Accuracy : 0.6003999710083008 \n",
      "Epoch 12, CIFAR-10 Batch 4:   Loss : 0.7250832915306091 \n",
      " Validation Accuracy : 0.6021999716758728 \n",
      "Epoch 12, CIFAR-10 Batch 5:   Loss : 0.68855881690979 \n",
      " Validation Accuracy : 0.6019999980926514 \n",
      "Epoch 13, CIFAR-10 Batch 1:   Loss : 0.73088139295578 \n",
      " Validation Accuracy : 0.598800003528595 \n",
      "Epoch 13, CIFAR-10 Batch 2:   Loss : 0.7889750599861145 \n",
      " Validation Accuracy : 0.5924000144004822 \n",
      "Epoch 13, CIFAR-10 Batch 3:   Loss : 0.6941800713539124 \n",
      " Validation Accuracy : 0.5979999899864197 \n",
      "Epoch 13, CIFAR-10 Batch 4:   Loss : 0.6803061962127686 \n",
      " Validation Accuracy : 0.5947999954223633 \n",
      "Epoch 13, CIFAR-10 Batch 5:   Loss : 0.653733491897583 \n",
      " Validation Accuracy : 0.5982000231742859 \n",
      "Epoch 14, CIFAR-10 Batch 1:   Loss : 0.6894056797027588 \n",
      " Validation Accuracy : 0.6060000061988831 \n",
      "Epoch 14, CIFAR-10 Batch 2:   Loss : 0.7282257676124573 \n",
      " Validation Accuracy : 0.5946000218391418 \n",
      "Epoch 14, CIFAR-10 Batch 3:   Loss : 0.6658204197883606 \n",
      " Validation Accuracy : 0.5925999879837036 \n",
      "Epoch 14, CIFAR-10 Batch 4:   Loss : 0.6221561431884766 \n",
      " Validation Accuracy : 0.6093999743461609 \n",
      "Epoch 14, CIFAR-10 Batch 5:   Loss : 0.609708309173584 \n",
      " Validation Accuracy : 0.6029999852180481 \n",
      "Epoch 15, CIFAR-10 Batch 1:   Loss : 0.6529746055603027 \n",
      " Validation Accuracy : 0.5974000096321106 \n",
      "Epoch 15, CIFAR-10 Batch 2:   Loss : 0.6897872686386108 \n",
      " Validation Accuracy : 0.6014000177383423 \n",
      "Epoch 15, CIFAR-10 Batch 3:   Loss : 0.6301191449165344 \n",
      " Validation Accuracy : 0.6014000177383423 \n",
      "Epoch 15, CIFAR-10 Batch 4:   Loss : 0.5723643898963928 \n",
      " Validation Accuracy : 0.6064000129699707 \n",
      "Epoch 15, CIFAR-10 Batch 5:   Loss : 0.5743269920349121 \n",
      " Validation Accuracy : 0.5965999960899353 \n",
      "Epoch 16, CIFAR-10 Batch 1:   Loss : 0.6521982550621033 \n",
      " Validation Accuracy : 0.5843999981880188 \n",
      "Epoch 16, CIFAR-10 Batch 2:   Loss : 0.6595432162284851 \n",
      " Validation Accuracy : 0.6086000204086304 \n",
      "Epoch 16, CIFAR-10 Batch 3:   Loss : 0.5860072374343872 \n",
      " Validation Accuracy : 0.600600004196167 \n",
      "Epoch 16, CIFAR-10 Batch 4:   Loss : 0.5380994081497192 \n",
      " Validation Accuracy : 0.6064000129699707 \n",
      "Epoch 16, CIFAR-10 Batch 5:   Loss : 0.5228973031044006 \n",
      " Validation Accuracy : 0.6014000177383423 \n",
      "Epoch 17, CIFAR-10 Batch 1:   Loss : 0.580345094203949 \n",
      " Validation Accuracy : 0.6050000190734863 \n",
      "Epoch 17, CIFAR-10 Batch 2:   Loss : 0.5910066962242126 \n",
      " Validation Accuracy : 0.6144000291824341 \n"
     ]
    },
    {
     "name": "stdout",
     "output_type": "stream",
     "text": [
      "Epoch 17, CIFAR-10 Batch 3:   Loss : 0.5419999957084656 \n",
      " Validation Accuracy : 0.6115999817848206 \n",
      "Epoch 17, CIFAR-10 Batch 4:   Loss : 0.4783368408679962 \n",
      " Validation Accuracy : 0.6128000020980835 \n",
      "Epoch 17, CIFAR-10 Batch 5:   Loss : 0.4608539640903473 \n",
      " Validation Accuracy : 0.603600025177002 \n",
      "Epoch 18, CIFAR-10 Batch 1:   Loss : 0.5413156747817993 \n",
      " Validation Accuracy : 0.609000027179718 \n",
      "Epoch 18, CIFAR-10 Batch 2:   Loss : 0.5315482020378113 \n",
      " Validation Accuracy : 0.6159999966621399 \n",
      "Epoch 18, CIFAR-10 Batch 3:   Loss : 0.49920275807380676 \n",
      " Validation Accuracy : 0.6115999817848206 \n",
      "Epoch 18, CIFAR-10 Batch 4:   Loss : 0.42767173051834106 \n",
      " Validation Accuracy : 0.6191999912261963 \n",
      "Epoch 18, CIFAR-10 Batch 5:   Loss : 0.42326071858406067 \n",
      " Validation Accuracy : 0.6064000129699707 \n",
      "Epoch 19, CIFAR-10 Batch 1:   Loss : 0.4833987057209015 \n",
      " Validation Accuracy : 0.6079999804496765 \n",
      "Epoch 19, CIFAR-10 Batch 2:   Loss : 0.4961342513561249 \n",
      " Validation Accuracy : 0.6146000027656555 \n",
      "Epoch 19, CIFAR-10 Batch 3:   Loss : 0.49284327030181885 \n",
      " Validation Accuracy : 0.6092000007629395 \n",
      "Epoch 19, CIFAR-10 Batch 4:   Loss : 0.41073301434516907 \n",
      " Validation Accuracy : 0.6129999756813049 \n",
      "Epoch 19, CIFAR-10 Batch 5:   Loss : 0.40108805894851685 \n",
      " Validation Accuracy : 0.6164000034332275 \n",
      "Epoch 20, CIFAR-10 Batch 1:   Loss : 0.4286248981952667 \n",
      " Validation Accuracy : 0.6168000102043152 \n",
      "Epoch 20, CIFAR-10 Batch 2:   Loss : 0.46493491530418396 \n",
      " Validation Accuracy : 0.6015999913215637 \n",
      "Epoch 20, CIFAR-10 Batch 3:   Loss : 0.48930564522743225 \n",
      " Validation Accuracy : 0.6029999852180481 \n",
      "Epoch 20, CIFAR-10 Batch 4:   Loss : 0.4007931053638458 \n",
      " Validation Accuracy : 0.6068000197410583 \n",
      "Epoch 20, CIFAR-10 Batch 5:   Loss : 0.360568642616272 \n",
      " Validation Accuracy : 0.6197999715805054 \n",
      "Epoch 21, CIFAR-10 Batch 1:   Loss : 0.41786989569664 \n",
      " Validation Accuracy : 0.6123999953269958 \n",
      "Epoch 21, CIFAR-10 Batch 2:   Loss : 0.4762530028820038 \n",
      " Validation Accuracy : 0.5848000049591064 \n",
      "Epoch 21, CIFAR-10 Batch 3:   Loss : 0.4437275230884552 \n",
      " Validation Accuracy : 0.6115999817848206 \n",
      "Epoch 21, CIFAR-10 Batch 4:   Loss : 0.42303112149238586 \n",
      " Validation Accuracy : 0.5997999906539917 \n",
      "Epoch 21, CIFAR-10 Batch 5:   Loss : 0.374445378780365 \n",
      " Validation Accuracy : 0.6093999743461609 \n",
      "Epoch 22, CIFAR-10 Batch 1:   Loss : 0.43217629194259644 \n",
      " Validation Accuracy : 0.6007999777793884 \n",
      "Epoch 22, CIFAR-10 Batch 2:   Loss : 0.4330374002456665 \n",
      " Validation Accuracy : 0.603600025177002 \n",
      "Epoch 22, CIFAR-10 Batch 3:   Loss : 0.44758856296539307 \n",
      " Validation Accuracy : 0.6039999723434448 \n",
      "Epoch 22, CIFAR-10 Batch 4:   Loss : 0.3488898277282715 \n",
      " Validation Accuracy : 0.614799976348877 \n",
      "Epoch 22, CIFAR-10 Batch 5:   Loss : 0.33851197361946106 \n",
      " Validation Accuracy : 0.61080002784729 \n",
      "Epoch 23, CIFAR-10 Batch 1:   Loss : 0.3903493285179138 \n",
      " Validation Accuracy : 0.607200026512146 \n",
      "Epoch 23, CIFAR-10 Batch 2:   Loss : 0.3982311189174652 \n",
      " Validation Accuracy : 0.6115999817848206 \n",
      "Epoch 23, CIFAR-10 Batch 3:   Loss : 0.4316631257534027 \n",
      " Validation Accuracy : 0.6032000184059143 \n",
      "Epoch 23, CIFAR-10 Batch 4:   Loss : 0.32692474126815796 \n",
      " Validation Accuracy : 0.616599977016449 \n",
      "Epoch 23, CIFAR-10 Batch 5:   Loss : 0.32330912351608276 \n",
      " Validation Accuracy : 0.6154000163078308 \n",
      "Epoch 24, CIFAR-10 Batch 1:   Loss : 0.36101940274238586 \n",
      " Validation Accuracy : 0.6114000082015991 \n",
      "Epoch 24, CIFAR-10 Batch 2:   Loss : 0.3458385765552521 \n",
      " Validation Accuracy : 0.6122000217437744 \n",
      "Epoch 24, CIFAR-10 Batch 3:   Loss : 0.3545951545238495 \n",
      " Validation Accuracy : 0.6086000204086304 \n",
      "Epoch 24, CIFAR-10 Batch 4:   Loss : 0.31366702914237976 \n",
      " Validation Accuracy : 0.6119999885559082 \n",
      "Epoch 24, CIFAR-10 Batch 5:   Loss : 0.3065038323402405 \n",
      " Validation Accuracy : 0.6114000082015991 \n"
     ]
    }
   ],
   "source": [
    "\"\"\"\n",
    "DON'T MODIFY ANYTHING IN THIS CELL\n",
    "\"\"\"\n",
    "save_model_path = './image_classification'\n",
    "\n",
    "print('Training...')\n",
    "with tf.Session() as sess:\n",
    "    # Initializing the variables\n",
    "    sess.run(tf.global_variables_initializer())\n",
    "    \n",
    "    # Training cycle\n",
    "    for epoch in range(epochs):\n",
    "        # Loop over all batches\n",
    "        n_batches = 5\n",
    "        for batch_i in range(1, n_batches + 1):\n",
    "            for batch_features, batch_labels in helper.load_preprocess_training_batch(batch_i, batch_size):\n",
    "                train_neural_network(sess, optimizer, keep_probability, batch_features, batch_labels)\n",
    "            print('Epoch {:>2}, CIFAR-10 Batch {}:  '.format(epoch + 1, batch_i), end='')\n",
    "            print_stats(sess, batch_features, batch_labels, cost, accuracy)\n",
    "            \n",
    "    # Save Model\n",
    "    saver = tf.train.Saver()\n",
    "    save_path = saver.save(sess, save_model_path)"
   ]
  },
  {
   "cell_type": "markdown",
   "metadata": {},
   "source": [
    "# Checkpoint\n",
    "The model has been saved to disk.\n",
    "## Test Model\n",
    "Test your model against the test dataset.  This will be your final accuracy. You should have an accuracy greater than 50%. If you don't, keep tweaking the model architecture and parameters."
   ]
  },
  {
   "cell_type": "code",
   "execution_count": 20,
   "metadata": {},
   "outputs": [
    {
     "name": "stdout",
     "output_type": "stream",
     "text": [
      "INFO:tensorflow:Restoring parameters from ./image_classification\n",
      "Testing Accuracy: 0.6127140641212463\n",
      "\n"
     ]
    },
    {
     "data": {
      "image/png": "[encoded data removed]",
      "text/plain": [
       "<Figure size 432x288 with 8 Axes>"
      ]
     },
     "metadata": {
      "image/png": {
       "height": 319,
       "width": 355
      }
     },
     "output_type": "display_data"
    }
   ],
   "source": [
    "\"\"\"\n",
    "DON'T MODIFY ANYTHING IN THIS CELL\n",
    "\"\"\"\n",
    "%matplotlib inline\n",
    "%config InlineBackend.figure_format = 'retina'\n",
    "\n",
    "import tensorflow as tf\n",
    "import pickle\n",
    "import helper\n",
    "import random\n",
    "\n",
    "# Set batch size if not already set\n",
    "try:\n",
    "    if batch_size:\n",
    "        pass\n",
    "except NameError:\n",
    "    batch_size = 64\n",
    "\n",
    "save_model_path = './image_classification'\n",
    "n_samples = 4\n",
    "top_n_predictions = 3\n",
    "\n",
    "def test_model():\n",
    "    \"\"\"\n",
    "    Test the saved model against the test dataset\n",
    "    \"\"\"\n",
    "\n",
    "    test_features, test_labels = pickle.load(open('preprocess_training.p', mode='rb'))\n",
    "    loaded_graph = tf.Graph()\n",
    "\n",
    "    with tf.Session(graph=loaded_graph) as sess:\n",
    "        # Load model\n",
    "        loader = tf.train.import_meta_graph(save_model_path + '.meta')\n",
    "        loader.restore(sess, save_model_path)\n",
    "\n",
    "        # Get Tensors from loaded model\n",
    "        loaded_x = loaded_graph.get_tensor_by_name('x:0')\n",
    "        loaded_y = loaded_graph.get_tensor_by_name('y:0')\n",
    "        loaded_keep_prob = loaded_graph.get_tensor_by_name('keep_prob:0')\n",
    "        loaded_logits = loaded_graph.get_tensor_by_name('logits:0')\n",
    "        loaded_acc = loaded_graph.get_tensor_by_name('accuracy:0')\n",
    "        \n",
    "        # Get accuracy in batches for memory limitations\n",
    "        test_batch_acc_total = 0\n",
    "        test_batch_count = 0\n",
    "        \n",
    "        for train_feature_batch, train_label_batch in helper.batch_features_labels(test_features, test_labels, batch_size):\n",
    "            test_batch_acc_total += sess.run(\n",
    "                loaded_acc,\n",
    "                feed_dict={loaded_x: train_feature_batch, loaded_y: train_label_batch, loaded_keep_prob: 1.0})\n",
    "            test_batch_count += 1\n",
    "\n",
    "        print('Testing Accuracy: {}\\n'.format(test_batch_acc_total/test_batch_count))\n",
    "\n",
    "        # Print Random Samples\n",
    "        random_test_features, random_test_labels = tuple(zip(*random.sample(list(zip(test_features, test_labels)), n_samples)))\n",
    "        random_test_predictions = sess.run(\n",
    "            tf.nn.top_k(tf.nn.softmax(loaded_logits), top_n_predictions),\n",
    "            feed_dict={loaded_x: random_test_features, loaded_y: random_test_labels, loaded_keep_prob: 1.0})\n",
    "        helper.display_image_predictions(random_test_features, random_test_labels, random_test_predictions)\n",
    "\n",
    "\n",
    "test_model()"
   ]
  },
  {
   "cell_type": "markdown",
   "metadata": {},
   "source": [
    "## Why 50-80% Accuracy?\n",
    "You might be wondering why you can't get an accuracy any higher. First things first, 50% isn't bad for a simple CNN.  Pure guessing would get you 10% accuracy. That's because there are many more techniques that can be applied to your model and we recemmond that once you are done with this project, you explore!\n",
    "\n",
    "## Submitting This Project\n",
    "When submitting this project, make sure to run all the cells before saving the notebook.  Save the notebook file as \"image_classification.ipynb\" and save it as a HTML file under \"File\" -> \"Download as\".  Include the \"helper.py\" and \"problem_unittests.py\" files in your submission."
   ]
  }
 ],
 "metadata": {
  "kernelspec": {
   "display_name": "Python 3",
   "language": "python",
   "name": "python3"
  },
  "language_info": {
   "codemirror_mode": {
    "name": "ipython",
    "version": 3
   },
   "file_extension": ".py",
   "mimetype": "text/x-python",
   "name": "python",
   "nbconvert_exporter": "python",
   "pygments_lexer": "ipython3",
   "version": "3.5.5"
  }
 },
 "nbformat": 4,
 "nbformat_minor": 1
}
